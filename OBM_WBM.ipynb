{
 "cells": [
  {
   "cell_type": "code",
   "execution_count": 1,
   "id": "ce9ab3eb",
   "metadata": {},
   "outputs": [],
   "source": [
    "from matplotlib import pyplot as plt\n",
    "import pandas as pd"
   ]
  },
  {
   "cell_type": "code",
   "execution_count": 4,
   "id": "1788b519",
   "metadata": {},
   "outputs": [
    {
     "data": {
      "text/html": [
       "<div>\n",
       "<style scoped>\n",
       "    .dataframe tbody tr th:only-of-type {\n",
       "        vertical-align: middle;\n",
       "    }\n",
       "\n",
       "    .dataframe tbody tr th {\n",
       "        vertical-align: top;\n",
       "    }\n",
       "\n",
       "    .dataframe thead th {\n",
       "        text-align: right;\n",
       "    }\n",
       "</style>\n",
       "<table border=\"1\" class=\"dataframe\">\n",
       "  <thead>\n",
       "    <tr style=\"text-align: right;\">\n",
       "      <th></th>\n",
       "      <th>shear_rate</th>\n",
       "      <th>data_constant_OBM</th>\n",
       "      <th>data_constant_WBM</th>\n",
       "      <th>shear_stress_OBM</th>\n",
       "      <th>shear_stress_WBM</th>\n",
       "    </tr>\n",
       "  </thead>\n",
       "  <tbody>\n",
       "    <tr>\n",
       "      <th>0</th>\n",
       "      <td>600</td>\n",
       "      <td>0.084239</td>\n",
       "      <td>0.852914</td>\n",
       "      <td>23.722704</td>\n",
       "      <td>288.849899</td>\n",
       "    </tr>\n",
       "    <tr>\n",
       "      <th>1</th>\n",
       "      <td>599</td>\n",
       "      <td>0.084239</td>\n",
       "      <td>0.852914</td>\n",
       "      <td>23.695249</td>\n",
       "      <td>288.524935</td>\n",
       "    </tr>\n",
       "    <tr>\n",
       "      <th>2</th>\n",
       "      <td>598</td>\n",
       "      <td>0.084239</td>\n",
       "      <td>0.852914</td>\n",
       "      <td>23.667780</td>\n",
       "      <td>288.199795</td>\n",
       "    </tr>\n",
       "    <tr>\n",
       "      <th>3</th>\n",
       "      <td>597</td>\n",
       "      <td>0.084239</td>\n",
       "      <td>0.852914</td>\n",
       "      <td>23.640297</td>\n",
       "      <td>287.874477</td>\n",
       "    </tr>\n",
       "    <tr>\n",
       "      <th>4</th>\n",
       "      <td>596</td>\n",
       "      <td>0.084239</td>\n",
       "      <td>0.852914</td>\n",
       "      <td>23.612799</td>\n",
       "      <td>287.548982</td>\n",
       "    </tr>\n",
       "    <tr>\n",
       "      <th>5</th>\n",
       "      <td>595</td>\n",
       "      <td>0.084239</td>\n",
       "      <td>0.852914</td>\n",
       "      <td>23.585288</td>\n",
       "      <td>287.223310</td>\n",
       "    </tr>\n",
       "    <tr>\n",
       "      <th>6</th>\n",
       "      <td>594</td>\n",
       "      <td>0.084239</td>\n",
       "      <td>0.852914</td>\n",
       "      <td>23.557762</td>\n",
       "      <td>286.897459</td>\n",
       "    </tr>\n",
       "    <tr>\n",
       "      <th>7</th>\n",
       "      <td>593</td>\n",
       "      <td>0.084239</td>\n",
       "      <td>0.852914</td>\n",
       "      <td>23.530222</td>\n",
       "      <td>286.571431</td>\n",
       "    </tr>\n",
       "    <tr>\n",
       "      <th>8</th>\n",
       "      <td>592</td>\n",
       "      <td>0.084239</td>\n",
       "      <td>0.852914</td>\n",
       "      <td>23.502668</td>\n",
       "      <td>286.245223</td>\n",
       "    </tr>\n",
       "    <tr>\n",
       "      <th>9</th>\n",
       "      <td>591</td>\n",
       "      <td>0.084239</td>\n",
       "      <td>0.852914</td>\n",
       "      <td>23.475100</td>\n",
       "      <td>285.918836</td>\n",
       "    </tr>\n",
       "    <tr>\n",
       "      <th>10</th>\n",
       "      <td>590</td>\n",
       "      <td>0.084239</td>\n",
       "      <td>0.852914</td>\n",
       "      <td>23.447518</td>\n",
       "      <td>285.592269</td>\n",
       "    </tr>\n",
       "    <tr>\n",
       "      <th>11</th>\n",
       "      <td>589</td>\n",
       "      <td>0.084239</td>\n",
       "      <td>0.852914</td>\n",
       "      <td>23.419921</td>\n",
       "      <td>285.265523</td>\n",
       "    </tr>\n",
       "    <tr>\n",
       "      <th>12</th>\n",
       "      <td>588</td>\n",
       "      <td>0.084239</td>\n",
       "      <td>0.852914</td>\n",
       "      <td>23.392310</td>\n",
       "      <td>284.938596</td>\n",
       "    </tr>\n",
       "    <tr>\n",
       "      <th>13</th>\n",
       "      <td>587</td>\n",
       "      <td>0.084239</td>\n",
       "      <td>0.852914</td>\n",
       "      <td>23.364684</td>\n",
       "      <td>284.611488</td>\n",
       "    </tr>\n",
       "    <tr>\n",
       "      <th>14</th>\n",
       "      <td>586</td>\n",
       "      <td>0.084239</td>\n",
       "      <td>0.852914</td>\n",
       "      <td>23.337045</td>\n",
       "      <td>284.284199</td>\n",
       "    </tr>\n",
       "  </tbody>\n",
       "</table>\n",
       "</div>"
      ],
      "text/plain": [
       "    shear_rate  data_constant_OBM  data_constant_WBM  shear_stress_OBM  \\\n",
       "0          600           0.084239           0.852914         23.722704   \n",
       "1          599           0.084239           0.852914         23.695249   \n",
       "2          598           0.084239           0.852914         23.667780   \n",
       "3          597           0.084239           0.852914         23.640297   \n",
       "4          596           0.084239           0.852914         23.612799   \n",
       "5          595           0.084239           0.852914         23.585288   \n",
       "6          594           0.084239           0.852914         23.557762   \n",
       "7          593           0.084239           0.852914         23.530222   \n",
       "8          592           0.084239           0.852914         23.502668   \n",
       "9          591           0.084239           0.852914         23.475100   \n",
       "10         590           0.084239           0.852914         23.447518   \n",
       "11         589           0.084239           0.852914         23.419921   \n",
       "12         588           0.084239           0.852914         23.392310   \n",
       "13         587           0.084239           0.852914         23.364684   \n",
       "14         586           0.084239           0.852914         23.337045   \n",
       "\n",
       "    shear_stress_WBM  \n",
       "0         288.849899  \n",
       "1         288.524935  \n",
       "2         288.199795  \n",
       "3         287.874477  \n",
       "4         287.548982  \n",
       "5         287.223310  \n",
       "6         286.897459  \n",
       "7         286.571431  \n",
       "8         286.245223  \n",
       "9         285.918836  \n",
       "10        285.592269  \n",
       "11        285.265523  \n",
       "12        284.938596  \n",
       "13        284.611488  \n",
       "14        284.284199  "
      ]
     },
     "execution_count": 4,
     "metadata": {},
     "output_type": "execute_result"
    }
   ],
   "source": [
    "df = pd.read_excel(\"test_points.xlsx\", sheet_name=\"Sheet2\")\n",
    "df.head(15)"
   ]
  },
  {
   "cell_type": "code",
   "execution_count": 8,
   "id": "a322c0d4",
   "metadata": {},
   "outputs": [
    {
     "data": {
      "image/png": "[encoded data removed]",
      "text/plain": [
       "<Figure size 432x288 with 1 Axes>"
      ]
     },
     "metadata": {
      "needs_background": "light"
     },
     "output_type": "display_data"
    }
   ],
   "source": [
    "plt.plot(df[\"shear_rate\"], df[\"shear_stress_OBM\"])\n",
    "plt.xlabel(\"shear rate\")\n",
    "plt.ylabel(\"shear stress\")\n",
    "plt.title(\"Shear rate and shear stress curve for OBM\")\n",
    "plt.show()"
   ]
  },
  {
   "cell_type": "code",
   "execution_count": 9,
   "id": "ef516538",
   "metadata": {},
   "outputs": [
    {
     "data": {
      "image/png": "[encoded data removed]",
      "text/plain": [
       "<Figure size 432x288 with 1 Axes>"
      ]
     },
     "metadata": {
      "needs_background": "light"
     },
     "output_type": "display_data"
    }
   ],
   "source": [
    "plt.plot(df[\"shear_rate\"], df[\"shear_stress_WBM\"])\n",
    "plt.xlabel(\"shear rate\")\n",
    "plt.ylabel(\"shear stress\")\n",
    "plt.title(\"Shear rate and shear stress curve for WBM\")\n",
    "plt.show()"
   ]
  },
  {
   "cell_type": "code",
   "execution_count": 10,
   "id": "54e14c62",
   "metadata": {},
   "outputs": [
    {
     "data": {
      "image/png": "[encoded data removed]",
      "text/plain": [
       "<Figure size 432x288 with 1 Axes>"
      ]
     },
     "metadata": {
      "needs_background": "light"
     },
     "output_type": "display_data"
    }
   ],
   "source": [
    "plt.plot(df[\"shear_rate\"], df[\"shear_stress_WBM\"])\n",
    "plt.plot(df[\"shear_rate\"], df[\"shear_stress_OBM\"])\n",
    "plt.xlabel(\"shear rate\")\n",
    "plt.ylabel(\"shear stress\")\n",
    "plt.title(\"Shear rate and shear stress curve for WBM and OBM\")\n",
    "plt.show()"
   ]
  }
 ],
 "metadata": {
  "kernelspec": {
   "display_name": "Python 3 (ipykernel)",
   "language": "python",
   "name": "python3"
  },
  "language_info": {
   "codemirror_mode": {
    "name": "ipython",
    "version": 3
   },
   "file_extension": ".py",
   "mimetype": "text/x-python",
   "name": "python",
   "nbconvert_exporter": "python",
   "pygments_lexer": "ipython3",
   "version": "3.10.2"
  }
 },
 "nbformat": 4,
 "nbformat_minor": 5
}
